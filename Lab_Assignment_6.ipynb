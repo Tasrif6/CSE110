{
  "cells": [
    {
      "cell_type": "markdown",
      "metadata": {
        "id": "DH_u_qTgEeCj"
      },
      "source": [
        "Function "
      ]
    },
    {
      "cell_type": "markdown",
      "metadata": {
        "id": "V4323ld0HbiD"
      },
      "source": [
        "Built in funtion list"
      ]
    },
    {
      "cell_type": "code",
      "execution_count": null,
      "metadata": {
        "colab": {
          "base_uri": "https://localhost:8080/"
        },
        "id": "_3fva1GnEqSz",
        "outputId": "27c6a04e-9878-4cec-f91c-8c94fed3570a"
      },
      "outputs": [
        {
          "name": "stdout",
          "output_type": "stream",
          "text": [
            "['__doc__', '__loader__', '__name__', '__package__', '__spec__', 'acos', 'acosh', 'asin', 'asinh', 'atan', 'atan2', 'atanh', 'ceil', 'copysign', 'cos', 'cosh', 'degrees', 'e', 'erf', 'erfc', 'exp', 'expm1', 'fabs', 'factorial', 'floor', 'fmod', 'frexp', 'fsum', 'gamma', 'gcd', 'hypot', 'inf', 'isclose', 'isfinite', 'isinf', 'isnan', 'ldexp', 'lgamma', 'log', 'log10', 'log1p', 'log2', 'modf', 'nan', 'pi', 'pow', 'radians', 'remainder', 'sin', 'sinh', 'sqrt', 'tan', 'tanh', 'tau', 'trunc']\n"
          ]
        }
      ],
      "source": [
        "import math\n",
        "print(dir(math))"
      ]
    },
    {
      "cell_type": "code",
      "execution_count": null,
      "metadata": {
        "colab": {
          "base_uri": "https://localhost:8080/"
        },
        "id": "TLYQOnxPHZ_r",
        "outputId": "b3ac5c44-1eb6-4467-97d1-8a40a34a5497"
      },
      "outputs": [
        {
          "name": "stdout",
          "output_type": "stream",
          "text": [
            "Sir, please enter your desired number: 5\n",
            "odd!!\n"
          ]
        }
      ],
      "source": [
        "#task-1:\n",
        "user=int(input('Sir, please enter your desired number: '))\n",
        "def even_checker(number):\n",
        "    if number%2==0:\n",
        "        print('even!!')\n",
        "    else:\n",
        "        print('odd!!')\n",
        "even_checker(user)"
      ]
    },
    {
      "cell_type": "code",
      "execution_count": null,
      "metadata": {
        "colab": {
          "base_uri": "https://localhost:8080/"
        },
        "id": "BPZ6jYVp5vhL",
        "outputId": "7e5b786f-910a-407c-eea2-78cc4946bdba"
      },
      "outputs": [
        {
          "name": "stdout",
          "output_type": "stream",
          "text": [
            "0 1 1 2 3 5 8 "
          ]
        }
      ],
      "source": [
        "#task-2:\n",
        "def fibonacci(num):\n",
        "    num1=0\n",
        "    num2=1\n",
        "    if num<=0:\n",
        "        print('Invalid')\n",
        "    else:\n",
        "        print(num1,num2, end=' ')\n",
        "\n",
        "        while num2+num1<=num:\n",
        "             temp=num1+num2\n",
        "             num1=num2\n",
        "             num2=temp\n",
        "             print(temp, end=' ')\n",
        "fibonacci(10)"
      ]
    },
    {
      "cell_type": "code",
      "execution_count": null,
      "metadata": {
        "colab": {
          "base_uri": "https://localhost:8080/"
        },
        "id": "yHjFIis20w5a",
        "outputId": "9e768d37-dd39-4ee1-fac1-fc2f38db898e"
      },
      "outputs": [
        {
          "name": "stdout",
          "output_type": "stream",
          "text": [
            "0 1 1 2 4 8 "
          ]
        }
      ],
      "source": [
        "def fibonacci(num):\n",
        "    num0=0\n",
        "    num1=1\n",
        "    if num<=0:\n",
        "        print('Invalid')\n",
        "    else:\n",
        "        print(num0,num1, end=' ')\n",
        "    while num1+num0<=num:\n",
        "        temp=num1+num0\n",
        "        num1=temp\n",
        "        num0=num1\n",
        "        \n",
        "        print(temp, end=' ')\n",
        "\n",
        "fibonacci(10)"
      ]
    },
    {
      "cell_type": "code",
      "execution_count": null,
      "metadata": {
        "colab": {
          "base_uri": "https://localhost:8080/",
          "height": 52
        },
        "id": "JPpKVm7Bup62",
        "outputId": "1b1a9d0c-9122-4179-eb27-e3148f5f9f87"
      },
      "outputs": [
        {
          "name": "stdout",
          "output_type": "stream",
          "text": [
            "Sir, please enter your desired number: 5\n"
          ]
        },
        {
          "data": {
            "application/vnd.google.colaboratory.intrinsic+json": {
              "type": "string"
            },
            "text/plain": [
              "'Boo'"
            ]
          },
          "execution_count": 5,
          "metadata": {},
          "output_type": "execute_result"
        }
      ],
      "source": [
        "#task-3:\n",
        "user=int(input('Sir, please enter your desired number: '))\n",
        "def foo_moo(number):\n",
        "    if number%2==0:\n",
        "        return 'Foo'\n",
        "    elif number%3==0:\n",
        "        return 'Moo'\n",
        "    elif number%2==0 and number%3==0:\n",
        "        return 'FooMOO'\n",
        "    else:\n",
        "        return'Boo'\n",
        "foo_moo(user)\n"
      ]
    },
    {
      "cell_type": "code",
      "execution_count": null,
      "metadata": {
        "colab": {
          "base_uri": "https://localhost:8080/"
        },
        "id": "3SeuLJZNziZC",
        "outputId": "161e8fcd-ca84-42c2-ef63-72af66932df2"
      },
      "outputs": [
        {
          "name": "stdout",
          "output_type": "stream",
          "text": [
            "No. of Uppercase characters :  3\n",
            "No. of Lowercase characters :  12\n"
          ]
        }
      ],
      "source": [
        "#task-4:\n",
        "def function_name(words):\n",
        "    new_word=''\n",
        "    lower_count=0\n",
        "    upper_count=0\n",
        "    for i in words:\n",
        "        if i!=' ':\n",
        "            new_word=new_word+i\n",
        "    for j in new_word:\n",
        "        if 97<=ord(j)<=122:\n",
        "            lower_count+=1\n",
        "        else:\n",
        "            upper_count+=1\n",
        "    print('No. of Uppercase characters : ', upper_count)\n",
        "    print('No. of Lowercase characters : ', lower_count)\n",
        "\n",
        "function_name('The quick Sand Man')\n"
      ]
    },
    {
      "cell_type": "code",
      "execution_count": null,
      "metadata": {
        "colab": {
          "base_uri": "https://localhost:8080/"
        },
        "id": "Owlu3d67k_5H",
        "outputId": "68751354-771f-467e-8abf-f42ce1629922"
      },
      "outputs": [
        {
          "name": "stdout",
          "output_type": "stream",
          "text": [
            "Sir, please enter your desired number: 16\n",
            "Sir, please enter your desired number: 20000\n",
            "Sir, please enter your current position: Student\n",
            "0\n"
          ]
        }
      ],
      "source": [
        "#task-5:\n",
        "def  calculate_tax(age, sal,desig):\n",
        "    if age<18 or sal<10000 or desig=='President':\n",
        "        tax=0\n",
        "    elif sal>=10000 and sal<=20000:\n",
        "        tax=sal*5/100\n",
        "    elif sal>=20000:\n",
        "        tax=sal*10/100\n",
        "    return tax\n",
        "    \n",
        "    \n",
        "age=int(input('Sir, please enter your desired number: '))\n",
        "sal=float(input('Sir, please enter your desired number: '))\n",
        "desig=input('Sir, please enter your current position: ')\n",
        "store=calculate_tax(age, sal, desig) \n",
        "print(store)"
      ]
    },
    {
      "cell_type": "code",
      "execution_count": null,
      "metadata": {
        "colab": {
          "base_uri": "https://localhost:8080/"
        },
        "id": "V15n_V8YD0bx",
        "outputId": "318abf1d-7922-4cf4-f867-6cc456880128"
      },
      "outputs": [
        {
          "name": "stdout",
          "output_type": "stream",
          "text": [
            "11 years, 10 months and 315 days\n"
          ]
        }
      ],
      "source": [
        "#task-6:\n",
        "def function_name(days):\n",
        "    year=days//365\n",
        "    remainder=days%365\n",
        "    month=remainder//30\n",
        "    day=remainder%30\n",
        "    print('{} years, {} months and {} days'. format(year, month, remainder))\n",
        "function_name(4330)"
      ]
    },
    {
      "cell_type": "code",
      "execution_count": null,
      "metadata": {
        "colab": {
          "base_uri": "https://localhost:8080/"
        },
        "id": "blz7xqO7HLtA",
        "outputId": "558477e3-6dbf-482a-ab35-2e5d3840089c"
      },
      "outputs": [
        {
          "name": "stdout",
          "output_type": "stream",
          "text": [
            "123454321"
          ]
        }
      ],
      "source": [
        "#task-7:\n",
        "def show_palindrome(num):\n",
        "    \n",
        "    for i in range(1,num+1):\n",
        "        print(str(i), end='')\n",
        "    for count in range(num-1, 0, -1):\n",
        "        print(str(count), end='')\n",
        "\n",
        "show_palindrome(5)\n",
        "\n"
      ]
    },
    {
      "cell_type": "code",
      "execution_count": null,
      "metadata": {
        "colab": {
          "base_uri": "https://localhost:8080/"
        },
        "id": "diytjWy4NeLt",
        "outputId": "aeeb2685-8ba6-46f2-e482-dc518b092cff"
      },
      "outputs": [
        {
          "name": "stdout",
          "output_type": "stream",
          "text": [
            "        1 \n",
            "      1 2 1 \n",
            "    1 2 3 2 1 \n",
            "  1 2 3 4 3 2 1 \n",
            "1 2 3 4 5 4 3 2 1 \n"
          ]
        }
      ],
      "source": [
        "#task-8:\n",
        "def show_palindromic_triangle(height):\n",
        "    for i in range(1, height+1):\n",
        "        for j in range(2*height-2*i):\n",
        "            print(end=' ')\n",
        "        for s in range(1, i+1):\n",
        "            print(str(s),end=' ')\n",
        "        for k in range(i-1, 0, -1):\n",
        "            print(str(k),end=' ')\n",
        "        print()\n",
        "show_palindromic_triangle(5)\n"
      ]
    },
    {
      "cell_type": "code",
      "execution_count": null,
      "metadata": {
        "colab": {
          "base_uri": "https://localhost:8080/"
        },
        "id": "7nTp3ya3Iz4O",
        "outputId": "7a3556bc-d0a7-4b28-b953-2700a92d1792"
      },
      "outputs": [
        {
          "name": "stdout",
          "output_type": "stream",
          "text": [
            "(3.141592653589793, 6.283185307179586)\n",
            "Area of the circle is 3.141592653589793 and circumference is 6.283185307179586\n"
          ]
        }
      ],
      "source": [
        "#task-9:\n",
        "import math\n",
        "def area_circumference_generator(num):\n",
        "    area=math.pi*num**2\n",
        "    circumference=2*math.pi*num\n",
        "    new_tuple=(area, circumference)\n",
        "    print(new_tuple)\n",
        "\n",
        "    print('Area of the circle is {} and circumference is {}'. format(area,circumference))\n",
        "\n",
        "area_circumference_generator(1)"
      ]
    },
    {
      "cell_type": "code",
      "execution_count": null,
      "metadata": {
        "colab": {
          "base_uri": "https://localhost:8080/",
          "height": 323
        },
        "id": "CziYU-9dPLgS",
        "outputId": "af9e6a9d-2110-4846-c8ca-cfafffb00103"
      },
      "outputs": [
        {
          "ename": "TypeError",
          "evalue": "ignored",
          "output_type": "error",
          "traceback": [
            "\u001b[0;31m---------------------------------------------------------------------------\u001b[0m",
            "\u001b[0;31mTypeError\u001b[0m                                 Traceback (most recent call last)",
            "\u001b[0;32m<ipython-input-12-2ef99388ef59>\u001b[0m in \u001b[0;36m<module>\u001b[0;34m\u001b[0m\n\u001b[1;32m     12\u001b[0m     \u001b[0mprint\u001b[0m\u001b[0;34m(\u001b[0m\u001b[0mnew_dict\u001b[0m\u001b[0;34m)\u001b[0m\u001b[0;34m\u001b[0m\u001b[0;34m\u001b[0m\u001b[0m\n\u001b[1;32m     13\u001b[0m \u001b[0;34m\u001b[0m\u001b[0m\n\u001b[0;32m---> 14\u001b[0;31m \u001b[0mmake_square\u001b[0m\u001b[0;34m(\u001b[0m\u001b[0;34m(\u001b[0m\u001b[0;36m1\u001b[0m\u001b[0;34m,\u001b[0m\u001b[0;36m3\u001b[0m\u001b[0;34m)\u001b[0m\u001b[0;34m)\u001b[0m\u001b[0;34m\u001b[0m\u001b[0;34m\u001b[0m\u001b[0m\n\u001b[0m",
            "\u001b[0;32m<ipython-input-12-2ef99388ef59>\u001b[0m in \u001b[0;36mmake_square\u001b[0;34m(num)\u001b[0m\n\u001b[1;32m      5\u001b[0m     \u001b[0madd\u001b[0m\u001b[0;34m=\u001b[0m\u001b[0;34m''\u001b[0m\u001b[0;34m\u001b[0m\u001b[0;34m\u001b[0m\u001b[0m\n\u001b[1;32m      6\u001b[0m     \u001b[0;32mfor\u001b[0m \u001b[0mi\u001b[0m \u001b[0;32min\u001b[0m \u001b[0mnum\u001b[0m\u001b[0;34m:\u001b[0m\u001b[0;34m\u001b[0m\u001b[0;34m\u001b[0m\u001b[0m\n\u001b[0;32m----> 7\u001b[0;31m         \u001b[0;32mif\u001b[0m \u001b[0mi\u001b[0m\u001b[0;34m[\u001b[0m\u001b[0;36m0\u001b[0m\u001b[0;34m]\u001b[0m\u001b[0;34m==\u001b[0m\u001b[0;34m'1'\u001b[0m\u001b[0;34m:\u001b[0m\u001b[0;34m\u001b[0m\u001b[0;34m\u001b[0m\u001b[0m\n\u001b[0m\u001b[1;32m      8\u001b[0m             \u001b[0mlist1\u001b[0m\u001b[0;34m.\u001b[0m\u001b[0mappend\u001b[0m\u001b[0;34m(\u001b[0m\u001b[0mi\u001b[0m\u001b[0;34m[\u001b[0m\u001b[0;36m0\u001b[0m\u001b[0;34m]\u001b[0m\u001b[0;34m)\u001b[0m\u001b[0;34m\u001b[0m\u001b[0;34m\u001b[0m\u001b[0m\n\u001b[1;32m      9\u001b[0m         \u001b[0;32melif\u001b[0m \u001b[0mi\u001b[0m\u001b[0;34m[\u001b[0m\u001b[0;36m1\u001b[0m\u001b[0;34m]\u001b[0m\u001b[0;34m==\u001b[0m\u001b[0;34m'3'\u001b[0m\u001b[0;34m:\u001b[0m\u001b[0;34m\u001b[0m\u001b[0;34m\u001b[0m\u001b[0m\n",
            "\u001b[0;31mTypeError\u001b[0m: 'int' object is not subscriptable"
          ]
        }
      ],
      "source": [
        "#task-10:\n",
        "def make_square(num):\n",
        "    list1=[]\n",
        "    list2=[]\n",
        "    add=''\n",
        "    for i in num:\n",
        "        if i[0]=='1':\n",
        "            list1.append(i[0])\n",
        "        elif i[1]=='3':\n",
        "            list2.append(i[1])\n",
        "    new_dict={'1':list1**2, '3':list2**2}\n",
        "    print(new_dict)\n",
        "\n",
        "make_square((1,3))"
      ]
    },
    {
      "cell_type": "code",
      "execution_count": null,
      "metadata": {
        "colab": {
          "base_uri": "https://localhost:8080/"
        },
        "id": "KIdJeBm-4TE_",
        "outputId": "e9f20997-eb44-4160-b22b-497fcb8de97a"
      },
      "outputs": [
        {
          "data": {
            "text/plain": [
              "{1: 1, 2: 4, 3: 9}"
            ]
          },
          "execution_count": 13,
          "metadata": {},
          "output_type": "execute_result"
        }
      ],
      "source": [
        "#task-10:\n",
        "def make_square(a_tuple):\n",
        "    start,end=a_tuple\n",
        "    a_dict={}\n",
        "\n",
        "    for i in range(start,end+1):\n",
        "        key=i\n",
        "        value=i**2\n",
        "        a_dict[key]=value\n",
        "    return a_dict\n",
        "    \n",
        "\n",
        "make_square((1,3))"
      ]
    },
    {
      "cell_type": "code",
      "execution_count": null,
      "metadata": {
        "colab": {
          "base_uri": "https://localhost:8080/"
        },
        "id": "Vho0GSuHrzd0",
        "outputId": "1866890a-d6e4-44b3-8df5-754b81874c03"
      },
      "outputs": [
        {
          "name": "stdout",
          "output_type": "stream",
          "text": [
            "{1: 1, 2: 4, 3: 9}\n"
          ]
        }
      ],
      "source": [
        "#task-10:\n",
        "def make_square(num):\n",
        "    new_dict={}\n",
        "    for i in range(num[0],num[1]+1):\n",
        "        new_dict[i]=i**2\n",
        "    return new_dict\n",
        "\n",
        "holding=make_square((1,3))\n",
        "print(holding)"
      ]
    },
    {
      "cell_type": "code",
      "execution_count": null,
      "metadata": {
        "colab": {
          "base_uri": "https://localhost:8080/"
        },
        "id": "8W59A8a06kH1",
        "outputId": "7bfa246b-fd1b-47b5-fcc9-e6094361db3b"
      },
      "outputs": [
        {
          "name": "stdout",
          "output_type": "stream",
          "text": [
            "(1, 2, 3, 4, 5, 6, 0)\n"
          ]
        }
      ],
      "source": [
        "#task-11:\n",
        "def rem_duplicate(num):\n",
        "    a_list=list(num)\n",
        "    new_list=[]\n",
        "    for i in num:\n",
        "        if i not in new_list:\n",
        "            new_list.append(i)\n",
        "    print(tuple(new_list))\n",
        "\n",
        "rem_duplicate((1,1,1,2,3,4,5,6,6,6,6,4,0,0,0))"
      ]
    },
    {
      "cell_type": "code",
      "execution_count": null,
      "metadata": {
        "colab": {
          "base_uri": "https://localhost:8080/"
        },
        "id": "x0ed8ovq-atr",
        "outputId": "e8244ccf-a636-43d4-8841-fa22926a5d3e"
      },
      "outputs": [
        {
          "name": "stdout",
          "output_type": "stream",
          "text": [
            "[1, 1, 1, 2, 3, 4, 5, 6, 6, 6, 6, 4, 0, 0, 0]\n"
          ]
        },
        {
          "data": {
            "text/plain": [
              "[1, 2, 3, 4, 5, 6, 0]"
            ]
          },
          "execution_count": 16,
          "metadata": {},
          "output_type": "execute_result"
        }
      ],
      "source": [
        "def rem_duplicate(num):\n",
        "    a_list=list(num)\n",
        "    new_list=[]\n",
        "    print(a_list)\n",
        "    for i in num:\n",
        "        if i not in new_list:\n",
        "            new_list.append(i)\n",
        "    return new_list\n",
        "    \n",
        "rem_duplicate((1,1,1,2,3,4,5,6,6,6,6,4,0,0,0))"
      ]
    },
    {
      "cell_type": "code",
      "execution_count": null,
      "metadata": {
        "colab": {
          "base_uri": "https://localhost:8080/"
        },
        "id": "B7BawhIOpYz_",
        "outputId": "b211740e-d4d9-4694-c547-3fbef96efe23"
      },
      "outputs": [
        {
          "name": "stdout",
          "output_type": "stream",
          "text": [
            "[1, 2, 3, 4, 5, 8]\n",
            "Removed: 2\n",
            "Output: [1, 2, 3, 3, 4, 5, 8, 8]\n"
          ]
        }
      ],
      "source": [
        "#task-12:\n",
        "def function_name(a_list):\n",
        "    b_list=[]\n",
        "    c_list=[]\n",
        "    count=0\n",
        "    \n",
        "    for x in range(0,len(a_list)):\n",
        "        if a_list[x] not in b_list:\n",
        "            b_list.append(a_list[x])\n",
        "    print(b_list)\n",
        "    \n",
        "    \n",
        "    for y in range(0,len(b_list)):\n",
        "        for h in range(0,len(a_list)):\n",
        "            if b_list[y]== a_list[h]:\n",
        "                count=count+1\n",
        "\n",
        "        if count>=2:\n",
        "            c_list.append(b_list[y])\n",
        "            c_list.append(b_list[y])\n",
        "        elif count<2:\n",
        "            c_list.append(b_list[y])\n",
        "        count=0\n",
        "    removed=len(a_list)-len(c_list)\n",
        "    return c_list, removed\n",
        "\n",
        "x,y=function_name([1, 2, 3, 3, 3, 3, 4, 5, 8, 8])\n",
        "print(\"Removed:\",y)\n",
        "print(\"Output:\",x)\n"
      ]
    },
    {
      "cell_type": "code",
      "execution_count": null,
      "metadata": {
        "colab": {
          "base_uri": "https://localhost:8080/"
        },
        "id": "9XK5ASxLY0Oh",
        "outputId": "cab4153b-c6df-4bab-dbe4-9bc803e031dc"
      },
      "outputs": [
        {
          "name": "stdout",
          "output_type": "stream",
          "text": [
            "[2, 3, 8]\n",
            "([2, 3, 3, 8, 8], 5)\n",
            "Removed:  5\n",
            "Output:  [2, 3, 3, 8, 8]\n"
          ]
        }
      ],
      "source": [
        "def function_name(a_list):\n",
        "    b_list=[]\n",
        "    c_list=[]\n",
        "    count=0\n",
        "    for i in a_list:\n",
        "        if a_list[i] not in b_list:\n",
        "            b_list.append(a_list[i])\n",
        "    print(b_list)\n",
        "    \n",
        "    for j in range(0,len(b_list)):\n",
        "        for k in range(0,len(a_list)):\n",
        "            if b_list[j]==a_list[k]:\n",
        "                count=count+1\n",
        "        if count>=2:\n",
        "            c_list.append(b_list[j])\n",
        "            c_list.append(b_list[j])\n",
        "        elif count<2:\n",
        "            c_list.append(b_list[j])\n",
        "        count=0\n",
        "    removed=len(a_list)-len(c_list)\n",
        "    return c_list,removed\n",
        "\n",
        "holding=function_name([1, 2, 3, 3, 3, 3, 4, 5, 8, 8])\n",
        "print(holding)\n",
        "print('Removed: ',holding[1])       #holding position in holding tuple(removed=1)\n",
        "print('Output: ',holding[0])        #holding position in holding tuple(c_list=0)\n"
      ]
    },
    {
      "cell_type": "code",
      "execution_count": null,
      "metadata": {
        "colab": {
          "base_uri": "https://localhost:8080/"
        },
        "id": "lF_yOToFpgDW",
        "outputId": "75dbddd7-e40f-4654-91d4-7ea02c7137fd"
      },
      "outputs": [
        {
          "name": "stdout",
          "output_type": "stream",
          "text": [
            "Sir, please enter your desried operator: +\n",
            "Sir, please enter your desired number: 10\n",
            "Sir, please enter your desired number: 20\n",
            "Output is: 30.0\n"
          ]
        }
      ],
      "source": [
        "#task-13:\n",
        "def function_name(p,q,r):\n",
        "    if p==\"+\":\n",
        "        output=q+r\n",
        "    elif p==\"-\":\n",
        "        output=q-r\n",
        "    elif p==\"*\":\n",
        "        output=q*r\n",
        "    elif p==\"/\" :\n",
        "        output=q/r\n",
        "    return output\n",
        "\n",
        "p=str(input('Sir, please enter your desried operator: '))\n",
        "q=float(input('Sir, please enter your desired number: '))\n",
        "r=float(input('Sir, please enter your desired number: '))    \n",
        "holding=function_name(p,q,r)\n",
        "print(\"Output is:\",holding)\n",
        "    "
      ]
    },
    {
      "cell_type": "code",
      "execution_count": null,
      "metadata": {
        "colab": {
          "base_uri": "https://localhost:8080/"
        },
        "id": "iVJK4dkcetU5",
        "outputId": "69d4a498-a03b-4036-e435-d9b8d61d2e81"
      },
      "outputs": [
        {
          "name": "stdout",
          "output_type": "stream",
          "text": [
            "+\n",
            "10\n",
            "20\n",
            "Output is:  30.0\n"
          ]
        }
      ],
      "source": [
        "def function_name(opert,int1,int2):\n",
        "    if opert=='+':\n",
        "        output=int1+int2\n",
        "    elif opert=='-':\n",
        "        output=int1-int2\n",
        "    elif opert=='*':\n",
        "        output=int1*int2\n",
        "    elif opert=='/':\n",
        "        output=int1/int2\n",
        "    return output\n",
        "\n",
        "opert=str(input())\n",
        "int1=float(input())\n",
        "int2=float(input())\n",
        "holding=function_name(opert,int1,int2)\n",
        "print('Output is: ',holding) "
      ]
    },
    {
      "cell_type": "code",
      "execution_count": null,
      "metadata": {
        "colab": {
          "base_uri": "https://localhost:8080/",
          "height": 35
        },
        "id": "k4x9OmdgTQS8",
        "outputId": "b30a993c-1587-4e19-8525-8308cb0bf245"
      },
      "outputs": [
        {
          "data": {
            "application/vnd.google.colaboratory.intrinsic+json": {
              "type": "string"
            },
            "text/plain": [
              "'I lveprgrmmngo oai.'"
            ]
          },
          "execution_count": 20,
          "metadata": {},
          "output_type": "execute_result"
        }
      ],
      "source": [
        "#task-14:\n",
        "def function_name(words, pos):\n",
        "    first_word=words[0]\n",
        "    new_word=''\n",
        "    extra_word=''\n",
        "    final_word=''\n",
        "\n",
        "    for i in range(1,len(words)):\n",
        "        if i%pos!=0:\n",
        "            new_word= new_word+words[i]\n",
        "\n",
        "        else:\n",
        "            extra_word= extra_word+words[i]\n",
        "\n",
        "    final_word= first_word+new_word+extra_word\n",
        "    return final_word\n",
        "\n",
        "function_name(\"I love programming.\", 3)"
      ]
    },
    {
      "cell_type": "code",
      "execution_count": null,
      "metadata": {
        "colab": {
          "base_uri": "https://localhost:8080/",
          "height": 35
        },
        "id": "ic9rt-5BmCpO",
        "outputId": "b7b013ea-353d-4901-86b8-dd64807e6c46"
      },
      "outputs": [
        {
          "data": {
            "application/vnd.google.colaboratory.intrinsic+json": {
              "type": "string"
            },
            "text/plain": [
              "'Pythonis eay to earn.I lov pythn. sl eo'"
            ]
          },
          "execution_count": 5,
          "metadata": {},
          "output_type": "execute_result"
        }
      ],
      "source": [
        "#task-14:\n",
        "def function_name(words, pos):\n",
        "    first=words[0]\n",
        "    new_word=''\n",
        "    extra_word=''\n",
        "    final_word=''\n",
        "\n",
        "    for i in range(1,len(words)):\n",
        "        if i%pos!=0:\n",
        "            new_word= new_word+words[i]\n",
        "\n",
        "        else:\n",
        "            extra_word= extra_word+words[i]\n",
        "\n",
        "    final_word= first +new_word+extra_word\n",
        "    return final_word\n",
        "\n",
        "function_name(\"Python is easy to learn. I love python.\", 6)"
      ]
    },
    {
      "cell_type": "code",
      "execution_count": null,
      "metadata": {
        "colab": {
          "base_uri": "https://localhost:8080/"
        },
        "id": "B9hvXfwXqI82",
        "outputId": "3e7ee6d3-f4e0-4ec5-b3af-82156052dbcd"
      },
      "outputs": [
        {
          "name": "stdout",
          "output_type": "stream",
          "text": [
            "Please enter item number: 5\n",
            "Please enter item: Rice\n",
            "Please enter item: Chicken\n",
            "Please enter item: Potato\n",
            "Please enter item: Beef\n",
            "Please enter item: Oil\n",
            "['Rice', 'Chicken', 'Potato', 'Beef', 'Oil']\n"
          ]
        },
        {
          "data": {
            "text/plain": [
              "1040"
            ]
          },
          "execution_count": 6,
          "metadata": {},
          "output_type": "execute_result"
        }
      ],
      "source": [
        "#task-15:\n",
        "num_item=int(input(\"Please enter item number: \"))\n",
        "list_item=[]\n",
        "\n",
        "for counter in range(0,num_item):\n",
        "    items=input(\"Please enter item: \")\n",
        "    list_item.append(items)\n",
        "\n",
        "print(list_item)\n",
        "a_dict={\"Rice\":105 ,\"Potato\":20,\"Chicken\": 250,\"Beef\":510,\"Oil\":85}\n",
        "\n",
        "def function_name(list_item,locate=\"Dhanmondi\"):\n",
        "    total=0\n",
        "\n",
        "    for counting in range(0,len(list_item)):\n",
        "        total=total+a_dict[list_item[counting]]\n",
        "    \n",
        "    if locate==\"Dhanmondi\":\n",
        "        total+=30\n",
        "    else:\n",
        "        total+=70\n",
        "    return total\n",
        "function_name(list_item,\"Mohakhali\")"
      ]
    },
    {
      "cell_type": "code",
      "execution_count": null,
      "metadata": {
        "colab": {
          "base_uri": "https://localhost:8080/"
        },
        "id": "4qFxkl0O_0oU",
        "outputId": "611afe6b-6d32-4576-a93b-46af5c6a96c7"
      },
      "outputs": [
        {
          "name": "stdout",
          "output_type": "stream",
          "text": [
            "500 Taka: 2 notes\n",
            "100 Taka: 2 notes\n",
            "20 Taka: 1 notes\n",
            "10 Taka: 1 notes\n",
            "2 Taka: 2 notes\n"
          ]
        }
      ],
      "source": [
        "#task-16:\n",
        "def splitting_money(amount):\n",
        "    var1=amount//500\n",
        "    remainder=amount%500\n",
        "    var2=remainder//100\n",
        "    remainder2=remainder%100\n",
        "    var3=remainder2//20\n",
        "    remainder3=remainder2%20\n",
        "    var4=remainder3//10\n",
        "    remainder4=remainder3%10\n",
        "    var5=remainder4//2\n",
        "\n",
        "    print('500 Taka: {} notes'.format(var1))\n",
        "    print('100 Taka: {} notes'.format(var2))\n",
        "    print('20 Taka: {} notes'.format(var3))\n",
        "    print('10 Taka: {} notes'. format(var4))\n",
        "    print('2 Taka: {} notes'.format(var5))\n",
        "\n",
        "splitting_money(1234)\n"
      ]
    },
    {
      "cell_type": "code",
      "execution_count": null,
      "metadata": {
        "colab": {
          "base_uri": "https://localhost:8080/"
        },
        "id": "kJMIWX3MKzEw",
        "outputId": "e539fc74-ce58-4a63-c299-f7ad7da84751"
      },
      "outputs": [
        {
          "output_type": "stream",
          "name": "stdout",
          "text": [
            "[44, 66, 88, 10]\n"
          ]
        }
      ],
      "source": [
        "#task-17:\n",
        "def remove_odd(list1):\n",
        "    new_list=[]\n",
        "    for i in range(0,len(list1)):\n",
        "        if list1[i]%2==0:\n",
        "            new_list.append(list1[i])\n",
        "        else:\n",
        "            pass\n",
        "    print(new_list)\n",
        "\n",
        "\n",
        "remove_odd([21, 33, 44, 66, 11, 1, 88, 45, 10, 9])\n"
      ]
    },
    {
      "cell_type": "code",
      "execution_count": null,
      "metadata": {
        "colab": {
          "base_uri": "https://localhost:8080/"
        },
        "id": "gia4JwEoTGwa",
        "outputId": "eb504537-1826-4800-9b6d-13a35d7edb94"
      },
      "outputs": [
        {
          "name": "stdout",
          "output_type": "stream",
          "text": [
            "[44, 66, 88, 10]\n"
          ]
        }
      ],
      "source": [
        "#task-17:\n",
        "def remove_odd(list1):\n",
        "    new_list=[]\n",
        "    for i in list1:\n",
        "        if i%2==0:\n",
        "            new_list.append(i)\n",
        "    print(new_list)\n",
        "\n",
        "\n",
        "remove_odd([21, 33, 44, 66, 11, 1, 88, 45, 10, 9])\n"
      ]
    },
    {
      "cell_type": "code",
      "execution_count": null,
      "metadata": {
        "colab": {
          "base_uri": "https://localhost:8080/"
        },
        "id": "F_O365pCmPVm",
        "outputId": "e190808b-a1ed-421d-e4f3-906b0d37816b"
      },
      "outputs": [
        {
          "name": "stdout",
          "output_type": "stream",
          "text": [
            "Sir, please enter your desired number: 10\n",
            "Sir, please enter your desired number: 40\n",
            "Sir ,please enter your desired number: 4\n",
            "Sir, please enter your desired number: 7\n"
          ]
        },
        {
          "data": {
            "text/plain": [
              "210"
            ]
          },
          "execution_count": 20,
          "metadata": {},
          "output_type": "execute_result"
        }
      ],
      "source": [
        "#task-18:\n",
        "starting=int(input('Sir, please enter your desired number: '))\n",
        "ending=int(input('Sir, please enter your desired number: '))\n",
        "first_d=int(input('Sir ,please enter your desired number: '))\n",
        "second_d=int(input('Sir, please enter your desired number: '))\n",
        "\n",
        "def function_name(start, end, fir_d, sec_d):\n",
        "    add=0\n",
        "    new_list={}\n",
        "    for i in range(start,end):\n",
        "        if i%fir_d==0 and i%sec_d==0:\n",
        "            pass\n",
        "        elif i%fir_d==0 or i%sec_d==0:\n",
        "            add=add+i\n",
        "    return add \n",
        "        \n",
        "\n",
        "function_name(starting, ending, first_d, second_d)             #10, 40, 4, 7"
      ]
    },
    {
      "cell_type": "code",
      "execution_count": null,
      "metadata": {
        "colab": {
          "base_uri": "https://localhost:8080/"
        },
        "id": "NesmHHzpGy-M",
        "outputId": "21a33f77-fdc7-4482-b8e4-957ba8257ee9"
      },
      "outputs": [
        {
          "data": {
            "text/plain": [
              "2012"
            ]
          },
          "execution_count": 21,
          "metadata": {},
          "output_type": "execute_result"
        }
      ],
      "source": [
        "#task-18:\n",
        "def function_name(start, end, fir_d, sec_d):\n",
        "    add=0\n",
        "    new_list={}\n",
        "    for i in range(start,end):\n",
        "        if i%fir_d==0 and i%sec_d==0:\n",
        "            pass\n",
        "        elif i%fir_d==0 or i%sec_d==0:\n",
        "            add=add+i\n",
        "    return add \n",
        "        \n",
        "\n",
        "function_name(5, 100, 3, 4) "
      ]
    },
    {
      "cell_type": "code",
      "execution_count": null,
      "metadata": {
        "colab": {
          "base_uri": "https://localhost:8080/",
          "height": 358
        },
        "id": "6jYYknu4SC6B",
        "outputId": "c5bfbdfd-418a-429b-bf27-439a691afd01"
      },
      "outputs": [
        {
          "output_type": "stream",
          "name": "stdout",
          "text": [
            "a black jackal is hunting a full grown deer\n",
            "ablackjackalishuntingafullgrowndeer\n"
          ]
        },
        {
          "output_type": "error",
          "ename": "TypeError",
          "evalue": "ignored",
          "traceback": [
            "\u001b[0;31m---------------------------------------------------------------------------\u001b[0m",
            "\u001b[0;31mTypeError\u001b[0m                                 Traceback (most recent call last)",
            "\u001b[0;32m<ipython-input-4-38b5c085bd76>\u001b[0m in \u001b[0;36m<module>\u001b[0;34m\u001b[0m\n\u001b[1;32m     30\u001b[0m \u001b[0;34m\u001b[0m\u001b[0m\n\u001b[1;32m     31\u001b[0m \u001b[0;34m\u001b[0m\u001b[0m\n\u001b[0;32m---> 32\u001b[0;31m \u001b[0mfunction_name\u001b[0m\u001b[0;34m(\u001b[0m\u001b[0;34m\"A BLacK Jackal is hunting a FULL grown deer\"\u001b[0m\u001b[0;34m)\u001b[0m\u001b[0;34m\u001b[0m\u001b[0;34m\u001b[0m\u001b[0m\n\u001b[0m",
            "\u001b[0;32m<ipython-input-4-38b5c085bd76>\u001b[0m in \u001b[0;36mfunction_name\u001b[0;34m(var1)\u001b[0m\n\u001b[1;32m     23\u001b[0m     \u001b[0msum\u001b[0m\u001b[0;34m=\u001b[0m\u001b[0;36m0\u001b[0m\u001b[0;34m\u001b[0m\u001b[0;34m\u001b[0m\u001b[0m\n\u001b[1;32m     24\u001b[0m     \u001b[0;32mfor\u001b[0m \u001b[0mcount\u001b[0m \u001b[0;32min\u001b[0m \u001b[0mrange\u001b[0m\u001b[0;34m(\u001b[0m\u001b[0mlen\u001b[0m\u001b[0;34m(\u001b[0m\u001b[0mvar2\u001b[0m\u001b[0;34m)\u001b[0m\u001b[0;34m)\u001b[0m\u001b[0;34m:\u001b[0m\u001b[0;34m\u001b[0m\u001b[0;34m\u001b[0m\u001b[0m\n\u001b[0;32m---> 25\u001b[0;31m         \u001b[0;32mif\u001b[0m \u001b[0mord\u001b[0m\u001b[0;34m(\u001b[0m\u001b[0mcount\u001b[0m\u001b[0;34m)\u001b[0m\u001b[0;34m>=\u001b[0m\u001b[0;36m97\u001b[0m \u001b[0;32mor\u001b[0m \u001b[0mord\u001b[0m\u001b[0;34m(\u001b[0m\u001b[0mcount\u001b[0m\u001b[0;34m)\u001b[0m\u001b[0;34m<=\u001b[0m\u001b[0;36m122\u001b[0m\u001b[0;34m:\u001b[0m\u001b[0;34m\u001b[0m\u001b[0;34m\u001b[0m\u001b[0m\n\u001b[0m\u001b[1;32m     26\u001b[0m \u001b[0;34m\u001b[0m\u001b[0m\n\u001b[1;32m     27\u001b[0m             \u001b[0msum\u001b[0m\u001b[0;34m=\u001b[0m\u001b[0msum\u001b[0m\u001b[0;34m+\u001b[0m\u001b[0mord\u001b[0m\u001b[0;34m[\u001b[0m\u001b[0mcount\u001b[0m\u001b[0;34m]\u001b[0m\u001b[0;34m\u001b[0m\u001b[0;34m\u001b[0m\u001b[0m\n",
            "\u001b[0;31mTypeError\u001b[0m: ord() expected string of length 1, but int found"
          ]
        }
      ],
      "source": [
        "#task-19:\n",
        "def function_name(var1):\n",
        "\n",
        "    sum=0\n",
        "    add=''\n",
        "    for i in range(len(var1)):\n",
        "        if var1[i].isupper():\n",
        "           add=add+var1[i].lower()\n",
        "\n",
        "        elif var1[i].islower():\n",
        "            add=add+var1[i].lower()\n",
        "        else:\n",
        "            add=add+var1[i].lower()\n",
        "    print(add)\n",
        "    \n",
        "    var2=''\n",
        "    for i in add:\n",
        "        if i !=' ':\n",
        "            var2=var2+i\n",
        "    print(var2)\n",
        "    \n",
        "    var3=''\n",
        "    sum=0\n",
        "    for count in range(len(var2)):\n",
        "        if ord[count]>=97 or ord[count]<=122:\n",
        "            \n",
        "            sum=sum+ord[count]\n",
        "        print(sum)\n",
        "    \n",
        "            \n",
        "\n",
        "function_name(\"A BLacK Jackal is hunting a FULL grown deer\")"
      ]
    },
    {
      "cell_type": "markdown",
      "metadata": {
        "id": "GTlaS6iXsW67"
      },
      "source": [
        "For making a uppercase letter into a lowercase letter"
      ]
    },
    {
      "cell_type": "code",
      "execution_count": null,
      "metadata": {
        "colab": {
          "base_uri": "https://localhost:8080/"
        },
        "id": "FJxmBVvGsRnr",
        "outputId": "435abac0-0e4d-4d1b-8840-38f3871f79e2"
      },
      "outputs": [
        {
          "name": "stdout",
          "output_type": "stream",
          "text": [
            "\"A black Jackal is hunting a full grown deer\"\n",
            "\"a BLACK jACKAL IS HUNTING A FULL GROWN DEER\"\n"
          ]
        }
      ],
      "source": [
        "s=input()\n",
        "new_str=\"\"\n",
        "for i in range (len(s)):\n",
        "    if s[i].isupper():\n",
        "        new_str+=s[i].lower()\n",
        "    elif s[i].islower():\n",
        "        new_str+=s[i].upper()\n",
        "    else:\n",
        "        new_str+=s[i]\n",
        "print(new_str)\n",
        "        "
      ]
    },
    {
      "cell_type": "code",
      "source": [
        "s=input()\n",
        "new_str=\"\"\n",
        "for i in range (len(s)):\n",
        "    if s[i].isupper():\n",
        "        new_str=new_str+s[i].lower()\n",
        "    else:\n",
        "        new_str=new_str+s[i].upper()\n",
        "print(new_str)"
      ],
      "metadata": {
        "colab": {
          "base_uri": "https://localhost:8080/"
        },
        "id": "Smew-VgKR3CW",
        "outputId": "4d98261b-5b8c-40b5-9f3c-51c52968c2e6"
      },
      "execution_count": null,
      "outputs": [
        {
          "output_type": "stream",
          "name": "stdout",
          "text": [
            "A Black Jackel is HUnting\n",
            "a bLACK jACKEL IS huNTING\n"
          ]
        }
      ]
    },
    {
      "cell_type": "code",
      "execution_count": null,
      "metadata": {
        "colab": {
          "base_uri": "https://localhost:8080/"
        },
        "id": "YF7ZKkmJ7tG2",
        "outputId": "46f01edf-c104-4528-86c3-8f8072873640"
      },
      "outputs": [
        {
          "name": "stdout",
          "output_type": "stream",
          "text": [
            "blackackalishuntingafullgrowndeer\n"
          ]
        }
      ],
      "source": [
        "user='a BLACK jACKAL IS HUNTING A FULL GROWN DEER'\n",
        "new=''\n",
        "for i in range(len(user)):\n",
        "    if user[i].isupper():\n",
        "        new=new+user[i].lower()\n",
        "print(new)"
      ]
    },
    {
      "cell_type": "code",
      "source": [
        "#task-20:\n",
        "def cal_bonus(name, sal, goals, time):\n",
        "    bonus = int(goals * (time / 100 *sal ) + 10000)\n",
        "    print('{} earned a bonus of {} Taka for {} goals.'.format(name,bonus,goals))\n",
        "\n",
        "cal_bonus(\"Neymar\", 1200000, 35, 5)"
      ],
      "metadata": {
        "colab": {
          "base_uri": "https://localhost:8080/"
        },
        "id": "uBBN5seDNcpM",
        "outputId": "e5999aac-613a-427e-8d34-e828af4b1c30"
      },
      "execution_count": null,
      "outputs": [
        {
          "output_type": "stream",
          "name": "stdout",
          "text": [
            "Neymar earned a bonus of 2110000 Taka for 35 goals.\n"
          ]
        }
      ]
    },
    {
      "cell_type": "code",
      "source": [
        "#task-21:\n",
        "def cal_bonus(name, sal, goals, time):\n",
        "    bonus = int(goals * (time / 100 *sal ) + 10000)\n",
        "    print('{} earned a bonus of {} Taka for {} goals.'.format(name,bonus,goals))\n",
        "\n",
        "cal_bonus(\"Neymar\", 1200000, 35, 5)"
      ],
      "metadata": {
        "colab": {
          "base_uri": "https://localhost:8080/"
        },
        "id": "S3P0YLFVNRsn",
        "outputId": "4aedd1b4-3cfa-485d-c109-7bfe536e25ee"
      },
      "execution_count": null,
      "outputs": [
        {
          "output_type": "stream",
          "name": "stdout",
          "text": [
            "Neymar earned a bonus of 2110000 Taka for 35 goals.\n"
          ]
        }
      ]
    }
  ],
  "metadata": {
    "colab": {
      "provenance": []
    },
    "kernelspec": {
      "display_name": "Python 3",
      "name": "python3"
    },
    "language_info": {
      "name": "python"
    }
  },
  "nbformat": 4,
  "nbformat_minor": 0
}